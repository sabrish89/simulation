{
 "cells": [
  {
   "cell_type": "code",
   "execution_count": 3,
   "metadata": {},
   "outputs": [],
   "source": [
    "import simpy\n",
    "import random"
   ]
  },
  {
   "cell_type": "markdown",
   "metadata": {},
   "source": [
    "Set globals:<br/>\n",
    "&nbsp; 1. Infinite customers possible if simulation process extended to infinity<br/>\n",
    "&nbsp; 2. Model customer temperment - propensity to regene using patience expvariate<br/>\n",
    "&nbsp; 3. Customer arrival is 2 every min (approx)"
   ]
  },
  {
   "cell_type": "code",
   "execution_count": 4,
   "metadata": {},
   "outputs": [],
   "source": [
    "RANDOM_SEED = 42\n",
    "NEW_CUSTOMERS = 99999999  # Total number of customers\n",
    "INTERVAL_CUSTOMERS = 2.0  # Generate new customers roughly every x time units (mins)\n",
    "MIN_PATIENCE = 5  # Min. customer waiting time post booking\n",
    "MAX_PATIENCE = 15  # Max. customer witing time post booking - as per service"
   ]
  },
  {
   "cell_type": "markdown",
   "metadata": {},
   "source": [
    "Waiting Time - Time from booking or on bus-stop arrival to on bus identity verification<br/>\n",
    "&nbsp; 1. Set-up environment for both service types<br/>\n",
    "&nbsp; 2. Constrain bus arrivals in dynamic routing service to the service policy "
   ]
  },
  {
   "cell_type": "code",
   "execution_count": 3,
   "metadata": {
    "collapsed": true
   },
   "outputs": [],
   "source": [
    "def source_on_demand(env, number, interval, counter):\n",
    "    \"\"\"Source generates commuters randomly\"\"\"\n",
    "    for i in range(number):\n",
    "        bus_arrival = random.uniform(5,15)\n",
    "        c = customer(env, 'Customer_%02d' % (i+1), counter, time_in_stop = bus_arrival)\n",
    "        env.process(c)\n",
    "        t = random.expovariate(1.0 / interval)\n",
    "        yield env.timeout(t)\n",
    "\n",
    "\n",
    "def customer(env, name, counter, time_in_stop):\n",
    "    \"\"\"Commuter arrives at stop, waits for bus and is served or leaves.\"\"\"\n",
    "    arrive = env.now\n",
    "    print('%7.4f %s: Arrives at Bus Stop' % (arrive, name))\n",
    "\n",
    "    with counter.request() as req:\n",
    "        patience = random.uniform(MIN_PATIENCE, MAX_PATIENCE)\n",
    "        # Wait for the bus or abort at the end of our tether\n",
    "        results = yield req | env.timeout(patience)\n",
    "\n",
    "        wait = env.now - arrive\n",
    "\n",
    "        if req in results:\n",
    "            if time_in_stop == 12.0:\n",
    "                tib = random.expovariate(1.0 / time_in_stop)\n",
    "            else:\n",
    "                tib = service_bound_exponential(1.0 / time_in_stop)\n",
    "            yield env.timeout(tib)\n",
    "            print('%7.4f %s: Boards Bus after waiting for %6.3f' % (env.now, name, tib))\n",
    "        else:\n",
    "            print('%7.4f %s: RENEGED(I am taking a Grab!!!)/Lost after %6.3f' % (env.now, name, wait))\n",
    "\n",
    "def source_deterministic(env, number, interval, counter):\n",
    "    \"\"\"Source generates commuters randomly\"\"\"\n",
    "    for i in range(number):\n",
    "        bus_arrival = 12.0 #deterministic - fixed frequency\n",
    "        c = customer(env, 'Customer_%02d' % (i+1), counter, time_in_stop = bus_arrival)\n",
    "        env.process(c)\n",
    "        t = random.expovariate(1.0 / interval)\n",
    "        yield env.timeout(t)\n",
    "        \n",
    "def service_bound_exponential(alpha):\n",
    "    gen = random.expovariate(alpha)\n",
    "    while gen > 15:\n",
    "        gen = random.expovariate(alpha)\n",
    "    return gen"
   ]
  },
  {
   "cell_type": "markdown",
   "metadata": {},
   "source": [
    "<b>Part A: As per on demand routing service policy 5-15 mins</b>"
   ]
  },
  {
   "cell_type": "code",
   "execution_count": 144,
   "metadata": {},
   "outputs": [
    {
     "name": "stdout",
     "output_type": "stream",
     "text": [
      "Bus Stop Simulation - On Demand\n",
      " 0.0000 Customer_01: Arrives at Bus Stop\n",
      " 0.2640 Customer_02: Arrives at Bus Stop\n",
      " 0.5706 Customer_03: Arrives at Bus Stop\n",
      " 0.7614 Customer_02: Boards Bus after waiting for  0.497\n",
      " 0.8273 Customer_03: Boards Bus after waiting for  0.257\n",
      " 1.3694 Customer_01: Boards Bus after waiting for  1.369\n",
      " 3.2510 Customer_04: Arrives at Bus Stop\n",
      " 5.1595 Customer_05: Arrives at Bus Stop\n",
      " 5.5211 Customer_05: Boards Bus after waiting for  0.362\n",
      " 6.2583 Customer_04: Boards Bus after waiting for  3.007\n",
      " 8.0373 Customer_06: Arrives at Bus Stop\n",
      " 9.8311 Customer_07: Arrives at Bus Stop\n",
      "10.2976 Customer_06: Boards Bus after waiting for  2.260\n",
      "10.4375 Customer_08: Arrives at Bus Stop\n",
      "11.3635 Customer_09: Arrives at Bus Stop\n",
      "12.7119 Customer_10: Arrives at Bus Stop\n",
      "13.8790 Customer_07: Boards Bus after waiting for  4.048\n",
      "14.1907 Customer_10: Boards Bus after waiting for  0.312\n",
      "15.9895 Customer_09: Boards Bus after waiting for  4.626\n",
      "18.3775 Customer_11: Arrives at Bus Stop\n",
      "19.4155 Customer_12: Arrives at Bus Stop\n",
      "19.9104 Customer_13: Arrives at Bus Stop\n",
      "22.6810 Customer_12: Boards Bus after waiting for  3.266\n",
      "23.5022 Customer_14: Arrives at Bus Stop\n",
      "23.9791 Customer_15: Arrives at Bus Stop\n",
      "24.8031 Customer_16: Arrives at Bus Stop\n",
      "25.2786 Customer_08: Boards Bus after waiting for 14.841\n",
      "25.8156 Customer_17: Arrives at Bus Stop\n",
      "27.4535 Customer_11: Boards Bus after waiting for  9.076\n",
      "28.0266 Customer_18: Arrives at Bus Stop\n"
     ]
    }
   ],
   "source": [
    "# Setup and start the simulation\n",
    "print('Bus Stop Simulation - On Demand')\n",
    "#random.seed(RANDOM_SEED)\n",
    "env = simpy.Environment()\n",
    "\n",
    "# Start processes and run\n",
    "counter = simpy.Resource(env, capacity=3)\n",
    "env.process(source_on_demand(env, NEW_CUSTOMERS, INTERVAL_CUSTOMERS, counter))\n",
    "env.run(until = 30)"
   ]
  },
  {
   "cell_type": "markdown",
   "metadata": {},
   "source": [
    "<b>Part B: As per deterministic - fixed frequency scheduling</b>"
   ]
  },
  {
   "cell_type": "code",
   "execution_count": 156,
   "metadata": {},
   "outputs": [
    {
     "name": "stdout",
     "output_type": "stream",
     "text": [
      "Bus Stop Simulation - Deterministic\n",
      " 0.0000 Customer_01: Arrives at Bus Stop\n",
      " 4.3543 Customer_02: Arrives at Bus Stop\n",
      " 4.7402 Customer_03: Arrives at Bus Stop\n",
      " 5.9708 Customer_04: Arrives at Bus Stop\n",
      " 6.5430 Customer_05: Arrives at Bus Stop\n",
      " 8.8839 Customer_03: Boards Bus after waiting for  4.144\n",
      " 8.9415 Customer_06: Arrives at Bus Stop\n",
      "11.3026 Customer_07: Arrives at Bus Stop\n",
      "11.9283 Customer_05: RENEGED(I am taking a Grab!!!)/Lost after  5.385\n",
      "13.2516 Customer_08: Arrives at Bus Stop\n",
      "14.5460 Customer_04: Boards Bus after waiting for  5.662\n",
      "15.4549 Customer_09: Arrives at Bus Stop\n",
      "16.1379 Customer_10: Arrives at Bus Stop\n",
      "16.3659 Customer_11: Arrives at Bus Stop\n",
      "16.9644 Customer_12: Arrives at Bus Stop\n",
      "18.4162 Customer_13: Arrives at Bus Stop\n",
      "18.7026 Customer_07: RENEGED(I am taking a Grab!!!)/Lost after  7.400\n",
      "21.4281 Customer_01: Boards Bus after waiting for 21.428\n",
      "22.5438 Customer_14: Arrives at Bus Stop\n",
      "22.8696 Customer_15: Arrives at Bus Stop\n",
      "23.2620 Customer_16: Arrives at Bus Stop\n",
      "23.5512 Customer_17: Arrives at Bus Stop\n",
      "24.5234 Customer_18: Arrives at Bus Stop\n",
      "25.3246 Customer_19: Arrives at Bus Stop\n",
      "25.6607 Customer_20: Arrives at Bus Stop\n",
      "26.1339 Customer_21: Arrives at Bus Stop\n",
      "26.4907 Customer_22: Arrives at Bus Stop\n",
      "27.2030 Customer_13: RENEGED(I am taking a Grab!!!)/Lost after  8.787\n",
      "27.2972 Customer_23: Arrives at Bus Stop\n",
      "28.8782 Customer_10: RENEGED(I am taking a Grab!!!)/Lost after 12.740\n",
      "29.1307 Customer_24: Arrives at Bus Stop\n",
      "29.1943 Customer_11: RENEGED(I am taking a Grab!!!)/Lost after 12.828\n",
      "29.4968 Customer_09: RENEGED(I am taking a Grab!!!)/Lost after 14.042\n",
      "29.6217 Customer_18: RENEGED(I am taking a Grab!!!)/Lost after  5.098\n"
     ]
    }
   ],
   "source": [
    "# Setup and start the simulation\n",
    "print('Bus Stop Simulation - Deterministic')\n",
    "#random.seed(RANDOM_SEED)\n",
    "env = simpy.Environment()\n",
    "\n",
    "# Start processes and run\n",
    "counter = simpy.Resource(env, capacity=3)\n",
    "env.process(source_deterministic(env, NEW_CUSTOMERS, INTERVAL_CUSTOMERS, counter))\n",
    "env.run(until = 30)"
   ]
  },
  {
   "cell_type": "markdown",
   "metadata": {},
   "source": [
    "<b> Some Observations from simulations:</b><br/>\n",
    "&nbsp; &nbsp; 1. Avg. waiting time is lesser in case of the service (4.323 mins vs 8.193 mins)<br/>\n",
    "&nbsp; &nbsp; 2. Number of customers that renege is lesser in case of service (2 vs 6)<br/>"
   ]
  }
 ],
 "metadata": {
  "kernelspec": {
   "display_name": "Python 3",
   "language": "python",
   "name": "python3"
  },
  "language_info": {
   "codemirror_mode": {
    "name": "ipython",
    "version": 3
   },
   "file_extension": ".py",
   "mimetype": "text/x-python",
   "name": "python",
   "nbconvert_exporter": "python",
   "pygments_lexer": "ipython3",
   "version": "3.8.3"
  }
 },
 "nbformat": 4,
 "nbformat_minor": 2
}
